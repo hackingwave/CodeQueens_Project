{
 "cells": [
  {
   "cell_type": "code",
   "execution_count": 27,
   "id": "a8c8e6f8",
   "metadata": {},
   "outputs": [],
   "source": [
    "import cv2\n",
    "import numpy as np\n",
    "import face_recognition\n",
    "import os\n",
    "from datetime import datetime\n",
    "import matplotlib.pyplot as plt"
   ]
  },
  {
   "cell_type": "code",
   "execution_count": 28,
   "id": "88c8d135",
   "metadata": {},
   "outputs": [
    {
     "name": "stdout",
     "output_type": "stream",
     "text": [
      "['Anuska_Ray.jpg', 'Ekta Rani.jpg', 'Shalini Tripathi.jpg', 'Shivani Rakesh.jpg']\n",
      "['Anuska_Ray', 'Ekta Rani', 'Shalini Tripathi', 'Shivani Rakesh']\n"
     ]
    }
   ],
   "source": [
    "path = 'C:/Users/ANUSKA RAY/Downloads/ImagesAttendance'\n",
    "images = []\n",
    "Names = []\n",
    "myList = os.listdir(path)\n",
    "print(myList)\n",
    "for cl in myList:\n",
    "    curImg = cv2.imread(f'{path}/{cl}')\n",
    "    images.append(curImg)\n",
    "    Names.append(os.path.splitext(cl)[0])\n",
    "print(Names)"
   ]
  },
  {
   "cell_type": "code",
   "execution_count": 29,
   "id": "f920f9b8",
   "metadata": {},
   "outputs": [],
   "source": [
    "def findEncodings(images) : \n",
    "    encodeList = []\n",
    "    for img in images:\n",
    "        img = cv2.cvtColor(img, cv2.COLOR_BGR2RGB)\n",
    "        encode = face_recognition.face_encodings(img)[0]\n",
    "        encodeList.append(encode)\n",
    "    return encodeList"
   ]
  },
  {
   "cell_type": "code",
   "execution_count": 30,
   "id": "e4a41313",
   "metadata": {},
   "outputs": [
    {
     "name": "stdout",
     "output_type": "stream",
     "text": [
      "Encoding complete\n"
     ]
    }
   ],
   "source": [
    "encodeListKnown = findEncodings(images)\n",
    "#print(len(encodeListKnown))\n",
    "print(\"Encoding complete\")"
   ]
  },
  {
   "cell_type": "code",
   "execution_count": 31,
   "id": "ce307908",
   "metadata": {},
   "outputs": [],
   "source": [
    "with open('C:/Users/ANUSKA RAY/Downloads/Attendance.csv', 'w+') as f:\n",
    "    pass"
   ]
  },
  {
   "cell_type": "code",
   "execution_count": 32,
   "id": "82160db6",
   "metadata": {},
   "outputs": [],
   "source": [
    "def markAttendance(name) : \n",
    "    with open('C:/Users/ANUSKA RAY/Downloads/Attendance.csv', 'r+') as f:\n",
    "        myDataList = f.readlines()\n",
    "        nameList = []\n",
    "        print(myDataList)\n",
    "        for line in myDataList:\n",
    "            entry = line.split(',')\n",
    "            nameList.append(entry[0])\n",
    "        if name not in nameList:\n",
    "            now = datetime.now()\n",
    "            dtString = now.strftime(\"%H:%M:%S\")\n",
    "            f.writelines(f'\\n{name}, {dtString}')"
   ]
  },
  {
   "cell_type": "code",
   "execution_count": 33,
   "id": "8d2444b4",
   "metadata": {},
   "outputs": [],
   "source": [
    "cap = cv2.VideoCapture(0)"
   ]
  },
  {
   "cell_type": "code",
   "execution_count": null,
   "id": "3880c968",
   "metadata": {},
   "outputs": [
    {
     "name": "stdout",
     "output_type": "stream",
     "text": [
      "[0.43785377 0.72213028 0.71423296 0.65083078]\n",
      "ANUSKA_RAY\n",
      "[0.47380478 0.76605179 0.75339052 0.71367087]\n",
      "ANUSKA_RAY\n"
     ]
    }
   ],
   "source": [
    "#c = 0 ;\n",
    "while True:\n",
    "    #c = c + 1\n",
    "    success, img = cap.read()\n",
    "    imgs = cv2.resize(img, (0,0), None, 0.25, 0.25)\n",
    "    imgs = cv2.cvtColor(img, cv2.COLOR_BGR2RGB)\n",
    "    \n",
    "    #state the location of face detect\n",
    "    facesCurFrame = face_recognition.face_locations(imgs)\n",
    "    #encoding the webcam images\n",
    "    encodesCurFrame = face_recognition.face_encodings(imgs,facesCurFrame)\n",
    "    \n",
    "    for encodeFace,faceLoc in zip(encodesCurFrame,facesCurFrame):\n",
    "        matches = face_recognition.compare_faces(encodeListKnown,encodeFace)\n",
    "        faceDis = face_recognition.face_distance(encodeListKnown,encodeFace)\n",
    "        print(faceDis)\n",
    "        matchIndex = np.argmin(faceDis)\n",
    "        \n",
    "        if matches[matchIndex]: \n",
    "            name = Names[matchIndex].upper()\n",
    "            print(name)\n",
    "            y1, x2, y2, x1 = faceLoc\n",
    "            cv2.rectangle(img, (x1, y1), (x2, y2), (0, 255, 0), 2)\n",
    "            cv2.rectangle(img, (x1, y2-35), (x2, y2), (0, 255, 0), cv2.FILLED)\n",
    "            cv2.putText(img, name, (x1 + 6, y2 - 6), cv2.FONT_HERSHEY_COMPLEX, 1, (255, 255, 255), 2)\n",
    "        \n",
    "    cv2.imshow('Webcam', img)\n",
    "    if cv2.waitKey(1) & 0xFF == ord('q'): \n",
    "        break\n",
    "    \n",
    "cap.release()\n",
    "cv2.destroyAllWindows() "
   ]
  },
  {
   "cell_type": "code",
   "execution_count": null,
   "id": "99e18a02",
   "metadata": {},
   "outputs": [],
   "source": []
  },
  {
   "cell_type": "code",
   "execution_count": 10,
   "id": "1e181488",
   "metadata": {},
   "outputs": [],
   "source": []
  },
  {
   "cell_type": "code",
   "execution_count": null,
   "id": "b2e8daf1",
   "metadata": {},
   "outputs": [],
   "source": []
  }
 ],
 "metadata": {
  "kernelspec": {
   "display_name": "Python 3 (ipykernel)",
   "language": "python",
   "name": "python3"
  },
  "language_info": {
   "codemirror_mode": {
    "name": "ipython",
    "version": 3
   },
   "file_extension": ".py",
   "mimetype": "text/x-python",
   "name": "python",
   "nbconvert_exporter": "python",
   "pygments_lexer": "ipython3",
   "version": "3.10.4"
  }
 },
 "nbformat": 4,
 "nbformat_minor": 5
}
