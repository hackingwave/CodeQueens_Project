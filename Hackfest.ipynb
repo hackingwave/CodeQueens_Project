{
 "cells": [
  {
   "cell_type": "code",
   "execution_count": 1,
   "id": "8f035550",
   "metadata": {},
   "outputs": [],
   "source": [
    "import cv2\n",
    "import numpy as np\n",
    "import face_recognition\n",
    "import os\n",
    "from datetime import datetime\n",
    "import matplotlib.pyplot as plt"
   ]
  },
  {
   "cell_type": "code",
   "execution_count": 2,
   "id": "d88f1e1d",
   "metadata": {},
   "outputs": [
    {
     "name": "stdout",
     "output_type": "stream",
     "text": [
      "['Anuska_Ray.jpg', 'Ekta Rani.jpg', 'Shivani Rakesh.jpg']\n",
      "['Anuska_Ray', 'Ekta Rani', 'Shivani Rakesh']\n"
     ]
    }
   ],
   "source": [
    "path = 'C:/Users/ANUSKA RAY/Downloads/ImagesAttendance'\n",
    "images = []\n",
    "classNames = []\n",
    "myList = os.listdir(path)\n",
    "print(myList)\n",
    "for cl in myList:\n",
    "    curImg = cv2.imread(f'{path}/{cl}')\n",
    "    images.append(curImg)\n",
    "    classNames.append(os.path.splitext(cl)[0])\n",
    "print(classNames)"
   ]
  },
  {
   "cell_type": "code",
   "execution_count": 3,
   "id": "a94a05ab",
   "metadata": {},
   "outputs": [],
   "source": [
    "def findEncodings(images) : \n",
    "    encodeList = []\n",
    "    for img in images:\n",
    "        img = cv2.cvtColor(img, cv2.COLOR_BGR2RGB)\n",
    "        encode = face_recognition.face_encodings(img)[0]\n",
    "        encodeList.append(encode)\n",
    "    return encodeList"
   ]
  },
  {
   "cell_type": "code",
   "execution_count": 4,
   "id": "c26d7f56",
   "metadata": {},
   "outputs": [
    {
     "name": "stdout",
     "output_type": "stream",
     "text": [
      "Encoding complete\n"
     ]
    }
   ],
   "source": [
    "encodeListKnown = findEncodings(images)\n",
    "#print(len(encodeListKnown))\n",
    "print(\"Encoding complete\")"
   ]
  },
  {
   "cell_type": "code",
   "execution_count": 5,
   "id": "559a9556",
   "metadata": {},
   "outputs": [],
   "source": [
    "with open('C:/Users/ANUSKA RAY/Downloads/Attendance.csv', 'w+') as f:\n",
    "    pass"
   ]
  },
  {
   "cell_type": "code",
   "execution_count": 6,
   "id": "56a695f2",
   "metadata": {},
   "outputs": [],
   "source": [
    "def markAttendance(name) : \n",
    "    with open('C:/Users/ANUSKA RAY/Downloads/Attendance.csv', 'r+') as f:\n",
    "        myDataList = f.readlines()\n",
    "        nameList = []\n",
    "        print(myDataList)\n",
    "        for line in myDataList:\n",
    "            entry = line.split(',')\n",
    "            nameList.append(entry[0])\n",
    "        if name not in nameList:\n",
    "            now = datetime.now()\n",
    "            dtString = now.strftime(\"%H:%M:%S\")\n",
    "            f.writelines(f'\\n{name}, {dtString}')"
   ]
  },
  {
   "cell_type": "code",
   "execution_count": 7,
   "id": "399cca34",
   "metadata": {},
   "outputs": [],
   "source": [
    "cap = cv2.VideoCapture(0)"
   ]
  },
  {
   "cell_type": "code",
   "execution_count": 8,
   "id": "1f29ecf4",
   "metadata": {},
   "outputs": [
    {
     "name": "stdout",
     "output_type": "stream",
     "text": [
      "[0.54859721 0.70024158 0.68050907]\n",
      "ANUSKA_RAY\n",
      "[0.52850936 0.7339212  0.65888101]\n",
      "ANUSKA_RAY\n",
      "[0.55340328 0.74129702 0.64662879]\n",
      "ANUSKA_RAY\n",
      "[0.48291618 0.71503712 0.65783189]\n",
      "ANUSKA_RAY\n",
      "[0.4856438  0.69716717 0.63100584]\n",
      "ANUSKA_RAY\n",
      "[0.49428831 0.67154474 0.61320176]\n",
      "ANUSKA_RAY\n",
      "[0.48442076 0.68451122 0.5949915 ]\n",
      "ANUSKA_RAY\n",
      "[0.51056924 0.71533516 0.5982845 ]\n",
      "ANUSKA_RAY\n",
      "[0.58836977 0.68326055 0.57957099]\n",
      "SHIVANI RAKESH\n",
      "[0.57159035 0.72232096 0.55497256]\n",
      "SHIVANI RAKESH\n",
      "[0.58829551 0.71831071 0.59982675]\n",
      "ANUSKA_RAY\n",
      "[0.55588384 0.67408445 0.62531331]\n",
      "ANUSKA_RAY\n",
      "[0.55300061 0.68363254 0.64621301]\n",
      "ANUSKA_RAY\n",
      "[0.57316537 0.68827755 0.6712519 ]\n",
      "ANUSKA_RAY\n",
      "[0.53509653 0.6976443  0.64968196]\n",
      "ANUSKA_RAY\n",
      "[0.53022785 0.67694177 0.60226307]\n",
      "ANUSKA_RAY\n",
      "[0.53445934 0.72811861 0.62098843]\n",
      "ANUSKA_RAY\n",
      "[0.53757023 0.69217166 0.59996693]\n",
      "ANUSKA_RAY\n",
      "[0.57885488 0.73495043 0.61821917]\n",
      "ANUSKA_RAY\n",
      "[0.52390739 0.68890023 0.59930136]\n",
      "ANUSKA_RAY\n",
      "[0.54290235 0.73869134 0.62418709]\n",
      "ANUSKA_RAY\n",
      "[0.52170612 0.71489869 0.58576873]\n",
      "ANUSKA_RAY\n",
      "[0.53562622 0.69731648 0.59280892]\n",
      "ANUSKA_RAY\n",
      "[0.53175959 0.69822267 0.56429582]\n",
      "ANUSKA_RAY\n",
      "[0.56019573 0.69626197 0.57793399]\n",
      "ANUSKA_RAY\n",
      "[0.59917297 0.76001684 0.65897946]\n",
      "ANUSKA_RAY\n",
      "[0.57495685 0.77601632 0.63784955]\n",
      "ANUSKA_RAY\n",
      "[0.58991225 0.72350946 0.67293379]\n",
      "ANUSKA_RAY\n",
      "[0.63216888 0.7658464  0.62307317]\n",
      "[0.61272384 0.75007451 0.64081565]\n",
      "[0.55626526 0.74336264 0.68057823]\n",
      "ANUSKA_RAY\n",
      "[0.59861462 0.78495712 0.69723323]\n",
      "ANUSKA_RAY\n",
      "[0.58404409 0.7397478  0.679478  ]\n",
      "ANUSKA_RAY\n"
     ]
    },
    {
     "ename": "KeyboardInterrupt",
     "evalue": "",
     "output_type": "error",
     "traceback": [
      "\u001b[1;31m---------------------------------------------------------------------------\u001b[0m",
      "\u001b[1;31mKeyboardInterrupt\u001b[0m                         Traceback (most recent call last)",
      "Input \u001b[1;32mIn [8]\u001b[0m, in \u001b[0;36m<cell line: 2>\u001b[1;34m()\u001b[0m\n\u001b[0;32m      6\u001b[0m imgs \u001b[38;5;241m=\u001b[39m cv2\u001b[38;5;241m.\u001b[39mcvtColor(img, cv2\u001b[38;5;241m.\u001b[39mCOLOR_BGR2RGB)\n\u001b[0;32m      8\u001b[0m \u001b[38;5;66;03m#state the location of face detect\u001b[39;00m\n\u001b[1;32m----> 9\u001b[0m facesCurFrame \u001b[38;5;241m=\u001b[39m \u001b[43mface_recognition\u001b[49m\u001b[38;5;241;43m.\u001b[39;49m\u001b[43mface_locations\u001b[49m\u001b[43m(\u001b[49m\u001b[43mimgs\u001b[49m\u001b[43m)\u001b[49m\n\u001b[0;32m     10\u001b[0m \u001b[38;5;66;03m#encoding the webcam images\u001b[39;00m\n\u001b[0;32m     11\u001b[0m encodesCurFrame \u001b[38;5;241m=\u001b[39m face_recognition\u001b[38;5;241m.\u001b[39mface_encodings(imgs,facesCurFrame)\n",
      "File \u001b[1;32m~\\anaconda3\\envs\\envname\\lib\\site-packages\\face_recognition\\api.py:121\u001b[0m, in \u001b[0;36mface_locations\u001b[1;34m(img, number_of_times_to_upsample, model)\u001b[0m\n\u001b[0;32m    119\u001b[0m     \u001b[38;5;28;01mreturn\u001b[39;00m [_trim_css_to_bounds(_rect_to_css(face\u001b[38;5;241m.\u001b[39mrect), img\u001b[38;5;241m.\u001b[39mshape) \u001b[38;5;28;01mfor\u001b[39;00m face \u001b[38;5;129;01min\u001b[39;00m _raw_face_locations(img, number_of_times_to_upsample, \u001b[38;5;124m\"\u001b[39m\u001b[38;5;124mcnn\u001b[39m\u001b[38;5;124m\"\u001b[39m)]\n\u001b[0;32m    120\u001b[0m \u001b[38;5;28;01melse\u001b[39;00m:\n\u001b[1;32m--> 121\u001b[0m     \u001b[38;5;28;01mreturn\u001b[39;00m [_trim_css_to_bounds(_rect_to_css(face), img\u001b[38;5;241m.\u001b[39mshape) \u001b[38;5;28;01mfor\u001b[39;00m face \u001b[38;5;129;01min\u001b[39;00m \u001b[43m_raw_face_locations\u001b[49m\u001b[43m(\u001b[49m\u001b[43mimg\u001b[49m\u001b[43m,\u001b[49m\u001b[43m \u001b[49m\u001b[43mnumber_of_times_to_upsample\u001b[49m\u001b[43m,\u001b[49m\u001b[43m \u001b[49m\u001b[43mmodel\u001b[49m\u001b[43m)\u001b[49m]\n",
      "File \u001b[1;32m~\\anaconda3\\envs\\envname\\lib\\site-packages\\face_recognition\\api.py:105\u001b[0m, in \u001b[0;36m_raw_face_locations\u001b[1;34m(img, number_of_times_to_upsample, model)\u001b[0m\n\u001b[0;32m    103\u001b[0m     \u001b[38;5;28;01mreturn\u001b[39;00m cnn_face_detector(img, number_of_times_to_upsample)\n\u001b[0;32m    104\u001b[0m \u001b[38;5;28;01melse\u001b[39;00m:\n\u001b[1;32m--> 105\u001b[0m     \u001b[38;5;28;01mreturn\u001b[39;00m \u001b[43mface_detector\u001b[49m\u001b[43m(\u001b[49m\u001b[43mimg\u001b[49m\u001b[43m,\u001b[49m\u001b[43m \u001b[49m\u001b[43mnumber_of_times_to_upsample\u001b[49m\u001b[43m)\u001b[49m\n",
      "\u001b[1;31mKeyboardInterrupt\u001b[0m: "
     ]
    }
   ],
   "source": [
    "#c = 0 ;\n",
    "while True:\n",
    "    #c = c + 1\n",
    "    success, img = cap.read()\n",
    "    imgs = cv2.resize(img, (0,0), None, 0.25, 0.25)\n",
    "    imgs = cv2.cvtColor(img, cv2.COLOR_BGR2RGB)\n",
    "    \n",
    "    #state the location of face detect\n",
    "    facesCurFrame = face_recognition.face_locations(imgs)\n",
    "    #encoding the webcam images\n",
    "    encodesCurFrame = face_recognition.face_encodings(imgs,facesCurFrame)\n",
    "    \n",
    "    for encodeFace,faceLoc in zip(encodesCurFrame,facesCurFrame):\n",
    "        matches = face_recognition.compare_faces(encodeListKnown,encodeFace)\n",
    "        faceDis = face_recognition.face_distance(encodeListKnown,encodeFace)\n",
    "        print(faceDis)\n",
    "        matchIndex = np.argmin(faceDis)\n",
    "        \n",
    "        if matches[matchIndex]: \n",
    "            name = classNames[matchIndex].upper()\n",
    "            print(name)\n",
    "            y1, x2, y2, x1 = faceLoc\n",
    "            y1, x2, y2, x1 = y1*4, x2*4, y2*4, x1*4\n",
    "            cv2.rectangle(img, (x1, y1), (x2, y2), (255, 255, 0), 20)\n",
    "            cv2.rectangle(img, (x1, y2-35), (x2, y2), (0, 255, 0), cv2.FILLED)\n",
    "            cv2.putText(img, name, (x1 + 6, y2 - 6), cv2.FONT_HERSHEY_COMPLEX, 1, (255, 255, 255), 2)\n",
    "        \n",
    "    cv2.imshow('Webcam', img)\n",
    "    #cv2.waitKey(1)\n",
    "    k = cv2.waitKey(30) & 0xff\n",
    "    if k == 27: \n",
    "        break\n",
    "    \n",
    "cap.release()\n",
    "cv2.destroyAllWindows() "
   ]
  },
  {
   "cell_type": "code",
   "execution_count": 9,
   "id": "da53f9f0",
   "metadata": {},
   "outputs": [],
   "source": [
    "cap.release()\n",
    "cv2.destroyAllWindows()"
   ]
  },
  {
   "cell_type": "code",
   "execution_count": 10,
   "id": "8dc0f108",
   "metadata": {},
   "outputs": [],
   "source": []
  },
  {
   "cell_type": "code",
   "execution_count": null,
   "id": "6623a45c",
   "metadata": {},
   "outputs": [],
   "source": []
  }
 ],
 "metadata": {
  "kernelspec": {
   "display_name": "Python 3 (ipykernel)",
   "language": "python",
   "name": "python3"
  },
  "language_info": {
   "codemirror_mode": {
    "name": "ipython",
    "version": 3
   },
   "file_extension": ".py",
   "mimetype": "text/x-python",
   "name": "python",
   "nbconvert_exporter": "python",
   "pygments_lexer": "ipython3",
   "version": "3.10.4"
  }
 },
 "nbformat": 4,
 "nbformat_minor": 5
}
