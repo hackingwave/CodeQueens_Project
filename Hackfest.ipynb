{
 "cells": [
  {
   "cell_type": "code",
   "execution_count": 10,
   "id": "eb75ecef",
   "metadata": {},
   "outputs": [],
   "source": [
    "import cv2\n",
    "import numpy as np\n",
    "import face_recognition\n",
    "import os\n",
    "from datetime import datetime\n",
    "import matplotlib.pyplot as plt"
   ]
  },
  {
   "cell_type": "code",
   "execution_count": 11,
   "id": "91e06882",
   "metadata": {},
   "outputs": [
    {
     "name": "stdout",
     "output_type": "stream",
     "text": [
      "['Anuska_Ray.jpg', 'Ekta Rani.jpg', 'Shivani Rakesh.jpg']\n",
      "['Anuska_Ray', 'Ekta Rani', 'Shivani Rakesh']\n"
     ]
    }
   ],
   "source": [
    "path = 'C:/Users/ANUSKA RAY/Downloads/ImagesAttendance'\n",
    "images = []\n",
    "classNames = []\n",
    "myList = os.listdir(path)\n",
    "print(myList)\n",
    "for cl in myList:\n",
    "    curImg = cv2.imread(f'{path}/{cl}')\n",
    "    images.append(curImg)\n",
    "    classNames.append(os.path.splitext(cl)[0])\n",
    "print(classNames)"
   ]
  },
  {
   "cell_type": "code",
   "execution_count": 12,
   "id": "2333b1b6",
   "metadata": {},
   "outputs": [],
   "source": [
    "def findEncodings(images) : \n",
    "    encodeList = []\n",
    "    for img in images:\n",
    "        img = cv2.cvtColor(img, cv2.COLOR_BGR2RGB)\n",
    "        encode = face_recognition.face_encodings(img)[0]\n",
    "        encodeList.append(encode)\n",
    "    return encodeList"
   ]
  },
  {
   "cell_type": "code",
   "execution_count": 13,
   "id": "3896923e",
   "metadata": {},
   "outputs": [
    {
     "name": "stdout",
     "output_type": "stream",
     "text": [
      "Encoding complete\n"
     ]
    }
   ],
   "source": [
    "encodeListKnown = findEncodings(images)\n",
    "#print(len(encodeListKnown))\n",
    "print(\"Encoding complete\")"
   ]
  },
  {
   "cell_type": "code",
   "execution_count": 14,
   "id": "903127f9",
   "metadata": {},
   "outputs": [],
   "source": [
    "with open('C:/Users/ANUSKA RAY/Downloads/Attendance.csv', 'w+') as f:\n",
    "    pass"
   ]
  },
  {
   "cell_type": "code",
   "execution_count": 15,
   "id": "8adddb10",
   "metadata": {},
   "outputs": [],
   "source": [
    "def markAttendance(name) : \n",
    "    with open('C:/Users/ANUSKA RAY/Downloads/Attendance.csv', 'r+') as f:\n",
    "        myDataList = f.readlines()\n",
    "        nameList = []\n",
    "        print(myDataList)\n",
    "        for line in myDataList:\n",
    "            entry = line.split(',')\n",
    "            nameList.append(entry[0])\n",
    "        if name not in nameList:\n",
    "            now = datetime.now()\n",
    "            dtString = now.strftime(\"%H:%M:%S\")\n",
    "            f.writelines(f'\\n{name}, {dtString}')"
   ]
  },
  {
   "cell_type": "code",
   "execution_count": 16,
   "id": "344ec750",
   "metadata": {},
   "outputs": [],
   "source": [
    "cap = cv2.VideoCapture(0)"
   ]
  },
  {
   "cell_type": "code",
   "execution_count": 17,
   "id": "0cdac5ca",
   "metadata": {},
   "outputs": [
    {
     "name": "stdout",
     "output_type": "stream",
     "text": [
      "[0.41266468 0.68937599 0.62380441]\n",
      "ANUSKA_RAY\n",
      "253 356 408 201\n",
      "[0.45229663 0.68505796 0.57904845]\n",
      "ANUSKA_RAY\n",
      "253 356 408 201\n",
      "[0.45347347 0.69890101 0.62278879]\n",
      "ANUSKA_RAY\n",
      "253 356 408 201\n",
      "[0.42707654 0.66794621 0.57389735]\n",
      "ANUSKA_RAY\n",
      "236 356 391 201\n",
      "[0.47624026 0.72067483 0.66626487]\n",
      "ANUSKA_RAY\n",
      "236 356 391 201\n",
      "[0.43718467 0.65782113 0.58614713]\n",
      "ANUSKA_RAY\n",
      "236 373 391 218\n",
      "[0.44435204 0.65226621 0.58751208]\n",
      "ANUSKA_RAY\n",
      "236 373 391 218\n",
      "[0.41393034 0.67276236 0.61353992]\n",
      "ANUSKA_RAY\n",
      "236 373 391 218\n",
      "[0.41488915 0.6837101  0.59114589]\n",
      "ANUSKA_RAY\n",
      "253 373 408 218\n",
      "[0.41615642 0.67623029 0.55678446]\n",
      "ANUSKA_RAY\n",
      "236 373 391 218\n",
      "[0.38967407 0.66603047 0.58085538]\n",
      "ANUSKA_RAY\n",
      "236 373 391 218\n"
     ]
    }
   ],
   "source": [
    "#c = 0 ;\n",
    "while True:\n",
    "    #c = c + 1\n",
    "    success, img = cap.read()\n",
    "    imgs = cv2.resize(img, (0,0), None, 0.25, 0.25)\n",
    "    imgs = cv2.cvtColor(img, cv2.COLOR_BGR2RGB)\n",
    "    \n",
    "    #state the location of face detect\n",
    "    facesCurFrame = face_recognition.face_locations(imgs)\n",
    "    #encoding the webcam images\n",
    "    encodesCurFrame = face_recognition.face_encodings(imgs,facesCurFrame)\n",
    "    \n",
    "    for encodeFace,faceLoc in zip(encodesCurFrame,facesCurFrame):\n",
    "        matches = face_recognition.compare_faces(encodeListKnown,encodeFace)\n",
    "        faceDis = face_recognition.face_distance(encodeListKnown,encodeFace)\n",
    "        print(faceDis)\n",
    "        matchIndex = np.argmin(faceDis)\n",
    "        \n",
    "        if matches[matchIndex]: \n",
    "            name = classNames[matchIndex].upper()\n",
    "            print(name)\n",
    "            y1, x2, y2, x1 = faceLoc\n",
    "            #y1, x2, y2, x1 = y1*2, x2*2, y2*2, x1*2\n",
    "            print(y1, x2, y2, x1)\n",
    "            cv2.rectangle(img, (x1, y1), (x2, y2), (0, 255, 0), 2)\n",
    "            cv2.rectangle(img, (x1, y2-35), (x2, y2), (0, 255, 0), cv2.FILLED)\n",
    "            cv2.putText(img, name, (x1 + 6, y2 - 6), cv2.FONT_HERSHEY_COMPLEX, 1, (255, 255, 255), 2)\n",
    "        \n",
    "    cv2.imshow('Webcam', img)\n",
    "    #cv2.waitKey(1)\n",
    "    #k = cv2.waitKey(1) & 0xFF == ord('q'):\n",
    "    if cv2.waitKey(1) & 0xFF == ord('q'): \n",
    "        break\n",
    "    \n",
    "cap.release()\n",
    "cv2.destroyAllWindows() "
   ]
  },
  {
   "cell_type": "code",
   "execution_count": null,
   "id": "a9d98741",
   "metadata": {},
   "outputs": [],
   "source": []
  },
  {
   "cell_type": "code",
   "execution_count": 10,
   "id": "36df64ac",
   "metadata": {},
   "outputs": [],
   "source": []
  },
  {
   "cell_type": "code",
   "execution_count": null,
   "id": "b5d9c0a5",
   "metadata": {},
   "outputs": [],
   "source": []
  }
 ],
 "metadata": {
  "kernelspec": {
   "display_name": "Python 3 (ipykernel)",
   "language": "python",
   "name": "python3"
  },
  "language_info": {
   "codemirror_mode": {
    "name": "ipython",
    "version": 3
   },
   "file_extension": ".py",
   "mimetype": "text/x-python",
   "name": "python",
   "nbconvert_exporter": "python",
   "pygments_lexer": "ipython3",
   "version": "3.10.4"
  }
 },
 "nbformat": 4,
 "nbformat_minor": 5
}
